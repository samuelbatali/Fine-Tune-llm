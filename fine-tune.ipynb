{
 "cells": [
  {
   "cell_type": "markdown",
   "metadata": {},
   "source": [
    "## What is Fine tuning"
   ]
  },
  {
   "cell_type": "markdown",
   "metadata": {},
   "source": [
    "Fine-tuning in machine learning is the process of adapting a pre-trained model for specific tasks or use cases. It has become a fundamental deep learning technique, particularly in the training process of foundation models used for generative AI."
   ]
  },
  {
   "cell_type": "markdown",
   "metadata": {},
   "source": [
    "— From ibm.com"
   ]
  },
  {
   "cell_type": "markdown",
   "metadata": {},
   "source": [
    "## Fine-Tuning an LLM for Child-Safe Comment Analysis\n",
    "#============================================================================================#\n",
    "\n",
    "\n",
    "The primary purpose of this project is to fine-tune an LLM model to safeguard children by filtering inappropriate content from comments on children's videos. \n",
    "It functions as a digital guardian, analyzing text within comments to determine if they align with standards of appropriateness for young audiences.\n",
    "\n",
    "By identifying and flagging comments containing harmful, offensive, or unsuitable language, the model helps create a safer online environment for children."
   ]
  },
  {
   "cell_type": "markdown",
   "metadata": {},
   "source": [
    "### Step 1 - Setting up project Environment"
   ]
  },
  {
   "cell_type": "markdown",
   "metadata": {},
   "source": [
    "##### Importing modules"
   ]
  },
  {
   "cell_type": "code",
   "execution_count": 7,
   "metadata": {},
   "outputs": [],
   "source": [
    "from openai import OpenAI\n",
    "import pandas as pd\n",
    "import json\n",
    "import time\n",
    "import matplotlib.pyplot as plt"
   ]
  },
  {
   "cell_type": "markdown",
   "metadata": {},
   "source": [
    "##### Setup OpenAI API Keys"
   ]
  },
  {
   "cell_type": "code",
   "execution_count": 6,
   "metadata": {},
   "outputs": [],
   "source": [
    "api_key = \"<OpenAI API Key>\""
   ]
  },
  {
   "cell_type": "markdown",
   "metadata": {},
   "source": [
    "##### Create OpenAI Client"
   ]
  },
  {
   "cell_type": "code",
   "execution_count": 8,
   "metadata": {},
   "outputs": [
    {
     "data": {
      "text/plain": [
       "<openai.OpenAI at 0x116ac7400>"
      ]
     },
     "execution_count": 8,
     "metadata": {},
     "output_type": "execute_result"
    }
   ],
   "source": [
    "openai = OpenAI(api_key=api_key)\n",
    "openai"
   ]
  },
  {
   "cell_type": "markdown",
   "metadata": {},
   "source": [
    "### Step 2 - Data preparation"
   ]
  },
  {
   "cell_type": "markdown",
   "metadata": {},
   "source": [
    "##### Get training data"
   ]
  },
  {
   "cell_type": "code",
   "execution_count": 29,
   "metadata": {},
   "outputs": [
    {
     "data": {
      "text/html": [
       "<div>\n",
       "<style scoped>\n",
       "    .dataframe tbody tr th:only-of-type {\n",
       "        vertical-align: middle;\n",
       "    }\n",
       "\n",
       "    .dataframe tbody tr th {\n",
       "        vertical-align: top;\n",
       "    }\n",
       "\n",
       "    .dataframe thead th {\n",
       "        text-align: right;\n",
       "    }\n",
       "</style>\n",
       "<table border=\"1\" class=\"dataframe\">\n",
       "  <thead>\n",
       "    <tr style=\"text-align: right;\">\n",
       "      <th></th>\n",
       "      <th>user_id</th>\n",
       "      <th>comment</th>\n",
       "      <th>date</th>\n",
       "      <th>label</th>\n",
       "    </tr>\n",
       "  </thead>\n",
       "  <tbody>\n",
       "    <tr>\n",
       "      <th>0</th>\n",
       "      <td>1</td>\n",
       "      <td>This video is so funny!</td>\n",
       "      <td>2023-11-22</td>\n",
       "      <td>allow</td>\n",
       "    </tr>\n",
       "    <tr>\n",
       "      <th>1</th>\n",
       "      <td>2</td>\n",
       "      <td>I love the puppy! Can we have one?</td>\n",
       "      <td>2023-11-23</td>\n",
       "      <td>allow</td>\n",
       "    </tr>\n",
       "    <tr>\n",
       "      <th>2</th>\n",
       "      <td>3</td>\n",
       "      <td>This game is stupid! The creator is a loser.</td>\n",
       "      <td>2023-11-24</td>\n",
       "      <td>disallow</td>\n",
       "    </tr>\n",
       "    <tr>\n",
       "      <th>3</th>\n",
       "      <td>4</td>\n",
       "      <td>The colors are so pretty!</td>\n",
       "      <td>2023-11-25</td>\n",
       "      <td>allow</td>\n",
       "    </tr>\n",
       "    <tr>\n",
       "      <th>4</th>\n",
       "      <td>5</td>\n",
       "      <td>You're ugly and dumb.</td>\n",
       "      <td>2023-11-26</td>\n",
       "      <td>disallow</td>\n",
       "    </tr>\n",
       "  </tbody>\n",
       "</table>\n",
       "</div>"
      ],
      "text/plain": [
       "   user_id                                       comment        date     label\n",
       "0        1                       This video is so funny!  2023-11-22     allow\n",
       "1        2            I love the puppy! Can we have one?  2023-11-23     allow\n",
       "2        3  This game is stupid! The creator is a loser.  2023-11-24  disallow\n",
       "3        4                     The colors are so pretty!  2023-11-25     allow\n",
       "4        5                         You're ugly and dumb.  2023-11-26  disallow"
      ]
     },
     "execution_count": 29,
     "metadata": {},
     "output_type": "execute_result"
    }
   ],
   "source": [
    "training_data = pd.read_csv(\"users-comments.csv\")\n",
    "training_data.head()"
   ]
  },
  {
   "cell_type": "markdown",
   "metadata": {},
   "source": [
    "##### Convert data into acceptable format"
   ]
  },
  {
   "cell_type": "code",
   "execution_count": 30,
   "metadata": {},
   "outputs": [
    {
     "data": {
      "text/plain": [
       "({'messages': [{'role': 'system', 'content': '<The system prompt>'},\n",
       "   {'role': 'user', 'content': '<The user prompt>'},\n",
       "   {'role': 'assistant', 'content': '<The required/correct response>'}]},)"
      ]
     },
     "execution_count": 30,
     "metadata": {},
     "output_type": "execute_result"
    }
   ],
   "source": [
    "{\n",
    "    \"messages\": [\n",
    "        {\"role\": \"system\", \"content\": \"<The system prompt>\"},\n",
    "        {\"role\": \"user\", \"content\": \"<The user prompt>\"},\n",
    "        {\"role\": \"assistant\", \"content\": \"<The required/correct response>\"}\n",
    "    ]\n",
    "},"
   ]
  },
  {
   "cell_type": "markdown",
   "metadata": {},
   "source": [
    "Create a system prompt"
   ]
  },
  {
   "cell_type": "code",
   "execution_count": 11,
   "metadata": {},
   "outputs": [],
   "source": [
    "system_prompt = \"\"\"\n",
    "    Given a user comment on children videos, \n",
    "    check if the comment is appropriate for children \n",
    "    and determines if the comment should be allowed or \n",
    "    disallowed for children to view.\n",
    "    Return a single word in the following format:\n",
    "    - 'allow' if the comment is safe for children\n",
    "    - 'disallow' if the comment is not safe for children\n",
    "    \"\"\""
   ]
  },
  {
   "cell_type": "markdown",
   "metadata": {},
   "source": [
    "Extract each user's comment and the label from our training data, and convert each row to match the accepted format. Finally we'll store the results in a json file."
   ]
  },
  {
   "cell_type": "code",
   "execution_count": 33,
   "metadata": {},
   "outputs": [
    {
     "name": "stdout",
     "output_type": "stream",
     "text": [
      "{'messages': [{'role': 'system', 'content': \"\\n    Given a user comment on children videos, check if the comment is appropriate for children \\n    and determines if the comment should be allowed or disallowed for children to view.\\n    Return a single word in the following format:\\n    - 'allow' if the comment is safe for children\\n    - 'disallow' if the comment is not safe for children\\n    \"}, {'role': 'user', 'content': 'This video is so funny!'}, {'role': 'assistant', 'content': 'allow'}]}\n",
      "{'messages': [{'role': 'system', 'content': \"\\n    Given a user comment on children videos, check if the comment is appropriate for children \\n    and determines if the comment should be allowed or disallowed for children to view.\\n    Return a single word in the following format:\\n    - 'allow' if the comment is safe for children\\n    - 'disallow' if the comment is not safe for children\\n    \"}, {'role': 'user', 'content': 'I love the puppy! Can we have one?'}, {'role': 'assistant', 'content': 'allow'}]}\n",
      "{'messages': [{'role': 'system', 'content': \"\\n    Given a user comment on children videos, check if the comment is appropriate for children \\n    and determines if the comment should be allowed or disallowed for children to view.\\n    Return a single word in the following format:\\n    - 'allow' if the comment is safe for children\\n    - 'disallow' if the comment is not safe for children\\n    \"}, {'role': 'user', 'content': 'This game is stupid! The creator is a loser.'}, {'role': 'assistant', 'content': 'disallow'}]}\n",
      "{'messages': [{'role': 'system', 'content': \"\\n    Given a user comment on children videos, check if the comment is appropriate for children \\n    and determines if the comment should be allowed or disallowed for children to view.\\n    Return a single word in the following format:\\n    - 'allow' if the comment is safe for children\\n    - 'disallow' if the comment is not safe for children\\n    \"}, {'role': 'user', 'content': 'The colors are so pretty!'}, {'role': 'assistant', 'content': 'allow'}]}\n",
      "{'messages': [{'role': 'system', 'content': \"\\n    Given a user comment on children videos, check if the comment is appropriate for children \\n    and determines if the comment should be allowed or disallowed for children to view.\\n    Return a single word in the following format:\\n    - 'allow' if the comment is safe for children\\n    - 'disallow' if the comment is not safe for children\\n    \"}, {'role': 'user', 'content': \"You're ugly and dumb.\"}, {'role': 'assistant', 'content': 'disallow'}]}\n",
      "{'messages': [{'role': 'system', 'content': \"\\n    Given a user comment on children videos, check if the comment is appropriate for children \\n    and determines if the comment should be allowed or disallowed for children to view.\\n    Return a single word in the following format:\\n    - 'allow' if the comment is safe for children\\n    - 'disallow' if the comment is not safe for children\\n    \"}, {'role': 'user', 'content': \"This was amazing! Can't wait for more content like this. 😊\"}, {'role': 'assistant', 'content': 'allow'}]}\n",
      "{'messages': [{'role': 'system', 'content': \"\\n    Given a user comment on children videos, check if the comment is appropriate for children \\n    and determines if the comment should be allowed or disallowed for children to view.\\n    Return a single word in the following format:\\n    - 'allow' if the comment is safe for children\\n    - 'disallow' if the comment is not safe for children\\n    \"}, {'role': 'user', 'content': 'Not really what I was expecting but still decent.'}, {'role': 'assistant', 'content': 'allow'}]}\n",
      "{'messages': [{'role': 'system', 'content': \"\\n    Given a user comment on children videos, check if the comment is appropriate for children \\n    and determines if the comment should be allowed or disallowed for children to view.\\n    Return a single word in the following format:\\n    - 'allow' if the comment is safe for children\\n    - 'disallow' if the comment is not safe for children\\n    \"}, {'role': 'user', 'content': 'Seriously why is this even on YouTube? Waste of time.'}, {'role': 'assistant', 'content': 'disallow'}]}\n",
      "{'messages': [{'role': 'system', 'content': \"\\n    Given a user comment on children videos, check if the comment is appropriate for children \\n    and determines if the comment should be allowed or disallowed for children to view.\\n    Return a single word in the following format:\\n    - 'allow' if the comment is safe for children\\n    - 'disallow' if the comment is not safe for children\\n    \"}, {'role': 'user', 'content': 'Wow this video just made my day! Thank you!'}, {'role': 'assistant', 'content': 'allow'}]}\n",
      "{'messages': [{'role': 'system', 'content': \"\\n    Given a user comment on children videos, check if the comment is appropriate for children \\n    and determines if the comment should be allowed or disallowed for children to view.\\n    Return a single word in the following format:\\n    - 'allow' if the comment is safe for children\\n    - 'disallow' if the comment is not safe for children\\n    \"}, {'role': 'user', 'content': 'Could’ve done without the clickbait title. 😒'}, {'role': 'assistant', 'content': 'disallow'}]}\n"
     ]
    }
   ],
   "source": [
    "output_file = \"training_data.json\"\n",
    "for index, row in training_data.iterrows():\n",
    "    json_data = {\n",
    "        \"messages\": [\n",
    "            {\"role\": \"system\", \"content\": system_prompt},\n",
    "            {\"role\": \"user\", \"content\": row.comment},\n",
    "            {\"role\": \"assistant\", \"content\": row.label}\n",
    "        ]\n",
    "    }\n",
    "    # Write data into a json file\n",
    "    with open(output_file, \"a\") as f:\n",
    "        json.dump(json_data, f)\n",
    "        f.write(\"\\n\")"
   ]
  },
  {
   "cell_type": "markdown",
   "metadata": {},
   "source": [
    "### Step 3 - Fine-tune LLM model"
   ]
  },
  {
   "cell_type": "markdown",
   "metadata": {},
   "source": [
    "Upload our training data to openai"
   ]
  },
  {
   "cell_type": "code",
   "execution_count": 9,
   "metadata": {},
   "outputs": [
    {
     "data": {
      "text/plain": [
       "FileObject(id='file-IGyWUengGUs1QTozNVhXI1X6', bytes=208669, created_at=1723690424, filename='train_data.json', object='file', purpose='fine-tune', status='processed', status_details=None)"
      ]
     },
     "execution_count": 9,
     "metadata": {},
     "output_type": "execute_result"
    }
   ],
   "source": [
    "training_file = openai.files.create(\n",
    "    file=open(output_file, \"rb\"),\n",
    "    purpose=\"fine-tune\"\n",
    ")\n",
    "training_file"
   ]
  },
  {
   "cell_type": "markdown",
   "metadata": {},
   "source": [
    "Create a fine-tuning job"
   ]
  },
  {
   "cell_type": "code",
   "execution_count": 10,
   "metadata": {},
   "outputs": [
    {
     "data": {
      "text/plain": [
       "FineTuningJob(id='ftjob-i5G40bUH9pE2gaNtJiJQXnbK', created_at=1723690443, error=Error(code=None, message=None, param=None), fine_tuned_model=None, finished_at=None, hyperparameters=Hyperparameters(n_epochs='auto', batch_size='auto', learning_rate_multiplier='auto'), model='gpt-3.5-turbo-0125', object='fine_tuning.job', organization_id='org-CnqoU6Ywmq6IZD3QDf7aGQ1o', result_files=[], seed=2020475909, status='validating_files', trained_tokens=None, training_file='file-IGyWUengGUs1QTozNVhXI1X6', validation_file=None, estimated_finish=None, integrations=[], user_provided_suffix=None)"
      ]
     },
     "execution_count": 10,
     "metadata": {},
     "output_type": "execute_result"
    }
   ],
   "source": [
    "job = openai.fine_tuning.jobs.create(\n",
    "    training_file=training_file.id,\n",
    "    model=\"gpt-3.5-turbo\",\n",
    "    hyperparameters={\n",
    "        # \"n_epochs\":'auto', # The number of full cycle through the training dataset.\n",
    "        # \"batch_size\": 16, # Number of examples in each batch\n",
    "        # \"learning_rate\": 0.01, #Scaling factor for the learning rate\n",
    "    }\n",
    ")\n",
    "job"
   ]
  },
  {
   "cell_type": "markdown",
   "metadata": {},
   "source": [
    "Check the status of the job"
   ]
  },
  {
   "cell_type": "code",
   "execution_count": 11,
   "metadata": {},
   "outputs": [
    {
     "name": "stdout",
     "output_type": "stream",
     "text": [
      "Waiting ...\n",
      "Job succeeded!\n"
     ]
    }
   ],
   "source": [
    "print(\"Waiting ...\")\n",
    "while True:\n",
    "    running_job = openai.fine_tuning.jobs.retrieve(job.id)\n",
    "    if running_job.status == \"succeeded\":\n",
    "        print(\"Job succeeded!\")\n",
    "        break\n",
    "    elif running_job.status == \"failed\" or running_job.status == \"cancelled\":\n",
    "        print(\"Job failed!\")\n",
    "        break\n",
    "    time.sleep(100)"
   ]
  },
  {
   "cell_type": "markdown",
   "metadata": {},
   "source": [
    "### Step 4 - Analyse model"
   ]
  },
  {
   "cell_type": "markdown",
   "metadata": {},
   "source": [
    "A well trained model should have:\n",
    "1. Taining loss decreasing in each step and\n",
    "2. Token accuracy increasing."
   ]
  },
  {
   "cell_type": "code",
   "execution_count": 9,
   "metadata": {},
   "outputs": [
    {
     "name": "stdout",
     "output_type": "stream",
     "text": [
      "FineTuningJobEvent(id='ftevent-HyhduE5rPjoToDONZ0TPF4og', created_at=1723692884, level='info', message='The job has successfully completed', object='fine_tuning.job.event', data={}, type='message')\n",
      "FineTuningJobEvent(id='ftevent-1sXeZ3b0SY7IrBgHQ0eb1z1h', created_at=1723692884, level='info', message='The job has successfully completed', object='fine_tuning.job.event', data={}, type='message')\n",
      "FineTuningJobEvent(id='ftevent-yHkvSXsA3FD5LB3dXkXffOgu', created_at=1723692872, level='info', message='New fine-tuned model created: ft:gpt-3.5-turbo-0125:personal::9wLXscQL', object='fine_tuning.job.event', data={}, type='message')\n",
      "FineTuningJobEvent(id='ftevent-ZalszLyCtZqvDQ7ShVbdgN5r', created_at=1723692872, level='info', message='Checkpoint created at step 806 with Snapshot ID: ft:gpt-3.5-turbo-0125:personal::9wLXrxxN:ckpt-step-806', object='fine_tuning.job.event', data={}, type='message')\n",
      "FineTuningJobEvent(id='ftevent-tUGxEeNz9qdER0Fb6zmkJZeo', created_at=1723692872, level='info', message='Checkpoint created at step 403 with Snapshot ID: ft:gpt-3.5-turbo-0125:personal::9wLXr1ao:ckpt-step-403', object='fine_tuning.job.event', data={}, type='message')\n",
      "FineTuningJobEvent(id='ftevent-BEipmjr3QCpJ9SeOX9pKENFP', created_at=1723692856, level='info', message='Step 1209/1209: training loss=0.00', object='fine_tuning.job.event', data={'step': 1209, 'train_loss': 6.35782896551973e-07, 'total_steps': 1209, 'train_mean_token_accuracy': 1.0}, type='metrics')\n",
      "FineTuningJobEvent(id='ftevent-QpaOxCgEsPYcAZXLlLnbW0EN', created_at=1723692847, level='info', message='Step 1208/1209: training loss=0.00', object='fine_tuning.job.event', data={'step': 1208, 'train_loss': 4.76837158203125e-07, 'total_steps': 1209, 'train_mean_token_accuracy': 1.0}, type='metrics')\n",
      "FineTuningJobEvent(id='ftevent-sECba7zUvevk2Q1Sp3wAZNVx', created_at=1723692847, level='info', message='Step 1207/1209: training loss=0.00', object='fine_tuning.job.event', data={'step': 1207, 'train_loss': 4.76837158203125e-07, 'total_steps': 1209, 'train_mean_token_accuracy': 1.0}, type='metrics')\n",
      "FineTuningJobEvent(id='ftevent-skHmCgmSmSn7xTYIOeF2757k', created_at=1723692846, level='info', message='Step 1206/1209: training loss=0.00', object='fine_tuning.job.event', data={'step': 1206, 'train_loss': 4.76837158203125e-07, 'total_steps': 1209, 'train_mean_token_accuracy': 1.0}, type='metrics')\n",
      "FineTuningJobEvent(id='ftevent-I7Zxxa0a0vdyweoioqD3lpi2', created_at=1723692841, level='info', message='Step 1205/1209: training loss=0.00', object='fine_tuning.job.event', data={'step': 1205, 'train_loss': 6.35782896551973e-07, 'total_steps': 1209, 'train_mean_token_accuracy': 1.0}, type='metrics')\n"
     ]
    }
   ],
   "source": [
    "events = openai.fine_tuning.jobs.list_events(\n",
    "    fine_tuning_job_id=job.id,\n",
    "    limit=100,\n",
    ")\n",
    "events_list = list(events.data)\n",
    "for index, event in enumerate(events_list):\n",
    "    if index >= 10: break\n",
    "    print(event)"
   ]
  },
  {
   "cell_type": "markdown",
   "metadata": {},
   "source": [
    "Extract training loss and accuracy"
   ]
  },
  {
   "cell_type": "code",
   "execution_count": 25,
   "metadata": {},
   "outputs": [
    {
     "name": "stdout",
     "output_type": "stream",
     "text": [
      "[1115, 1116, 1117, 1118, 1119, 1120, 1121, 1122, 1123, 1124, 1125, 1126, 1127, 1128, 1129, 1130, 1131, 1132, 1133, 1134, 1135, 1136, 1137, 1138, 1139, 1140, 1141, 1142, 1143, 1144, 1145, 1146, 1147, 1148, 1149, 1150, 1151, 1152, 1153, 1154, 1155, 1156, 1157, 1158, 1159, 1160, 1161, 1162, 1163, 1164, 1165, 1166, 1167, 1168, 1169, 1170, 1171, 1172, 1173, 1174, 1175, 1176, 1177, 1178, 1179, 1180, 1181, 1182, 1183, 1184, 1185, 1186, 1187, 1188, 1189, 1190, 1191, 1192, 1193, 1194, 1195, 1196, 1197, 1198, 1199, 1200, 1201, 1202, 1203, 1204, 1205, 1206, 1207, 1208, 1209]\n",
      "[4.76837158203125e-07, 6.35782896551973e-07, 4.76837158203125e-07, 6.35782896551973e-07, 6.35782896551973e-07, 4.76837158203125e-07, 6.35782896551973e-07, 4.76837158203125e-07, 6.35782896551973e-07, 4.76837158203125e-07, 4.76837158203125e-07, 4.76837158203125e-07, 4.76837158203125e-07, 6.35782896551973e-07, 4.76837158203125e-07, 6.35782896551973e-07, 6.35782896551973e-07, 6.35782896551973e-07, 4.76837158203125e-07, 6.35782896551973e-07, 4.76837158203125e-07, 4.76837158203125e-07, 4.76837158203125e-07, 6.35782896551973e-07, 6.35782896551973e-07, 6.35782896551973e-07, 4.76837158203125e-07, 4.76837158203125e-07, 4.76837158203125e-07, 4.76837158203125e-07, 4.76837158203125e-07, 6.35782896551973e-07, 4.76837158203125e-07, 6.35782896551973e-07, 6.35782896551973e-07, 4.76837158203125e-07, 6.35782896551973e-07, 4.76837158203125e-07, 6.35782896551973e-07, 6.35782896551973e-07, 4.76837158203125e-07, 6.35782896551973e-07, 6.35782896551973e-07, 4.76837158203125e-07, 4.76837158203125e-07, 6.35782896551973e-07, 4.76837158203125e-07, 4.76837158203125e-07, 4.76837158203125e-07, 6.35782896551973e-07, 6.35782896551973e-07, 4.76837158203125e-07, 4.76837158203125e-07, 4.76837158203125e-07, 6.35782896551973e-07, 6.35782896551973e-07, 6.35782896551973e-07, 6.35782896551973e-07, 4.76837158203125e-07, 4.76837158203125e-07, 4.76837158203125e-07, 6.35782896551973e-07, 6.35782896551973e-07, 4.76837158203125e-07, 4.76837158203125e-07, 6.35782896551973e-07, 6.35782896551973e-07, 6.35782896551973e-07, 4.76837158203125e-07, 6.35782896551973e-07, 6.35782896551973e-07, 6.35782896551973e-07, 6.35782896551973e-07, 4.76837158203125e-07, 6.35782896551973e-07, 4.76837158203125e-07, 6.35782896551973e-07, 6.35782896551973e-07, 6.35782896551973e-07, 4.76837158203125e-07, 4.76837158203125e-07, 4.76837158203125e-07, 4.76837158203125e-07, 4.76837158203125e-07, 4.76837158203125e-07, 6.35782896551973e-07, 6.35782896551973e-07, 4.76837158203125e-07, 6.35782896551973e-07, 6.35782896551973e-07, 6.35782896551973e-07, 4.76837158203125e-07, 4.76837158203125e-07, 4.76837158203125e-07, 6.35782896551973e-07]\n",
      "[1.0, 1.0, 1.0, 1.0, 1.0, 1.0, 1.0, 1.0, 1.0, 1.0, 1.0, 1.0, 1.0, 1.0, 1.0, 1.0, 1.0, 1.0, 1.0, 1.0, 1.0, 1.0, 1.0, 1.0, 1.0, 1.0, 1.0, 1.0, 1.0, 1.0, 1.0, 1.0, 1.0, 1.0, 1.0, 1.0, 1.0, 1.0, 1.0, 1.0, 1.0, 1.0, 1.0, 1.0, 1.0, 1.0, 1.0, 1.0, 1.0, 1.0, 1.0, 1.0, 1.0, 1.0, 1.0, 1.0, 1.0, 1.0, 1.0, 1.0, 1.0, 1.0, 1.0, 1.0, 1.0, 1.0, 1.0, 1.0, 1.0, 1.0, 1.0, 1.0, 1.0, 1.0, 1.0, 1.0, 1.0, 1.0, 1.0, 1.0, 1.0, 1.0, 1.0, 1.0, 1.0, 1.0, 1.0, 1.0, 1.0, 1.0, 1.0, 1.0, 1.0, 1.0, 1.0]\n"
     ]
    }
   ],
   "source": [
    "steps = []\n",
    "train_loss = []\n",
    "train_mean_accuracy = []\n",
    "for index, event in enumerate(events_list):\n",
    "    # if index >= 100: break\n",
    "    if event.data:\n",
    "        steps.append(event.data['step'])\n",
    "        train_loss.append(event.data['train_loss'])\n",
    "        train_mean_accuracy.append(event.data['train_mean_token_accuracy'])\n",
    "print(steps)\n",
    "print(train_loss)\n",
    "print(train_mean_accuracy)"
   ]
  },
  {
   "cell_type": "markdown",
   "metadata": {},
   "source": [
    "Plot a line graph to see how training loss changes in each step. "
   ]
  },
  {
   "cell_type": "code",
   "execution_count": 27,
   "metadata": {},
   "outputs": [
    {
     "data": {
      "image/png": "[encoded data removed]",
      "text/plain": [
       "<Figure size 1200x600 with 1 Axes>"
      ]
     },
     "metadata": {},
     "output_type": "display_data"
    }
   ],
   "source": [
    "plt.figure(figsize=(12, 6))\n",
    "plt.plot(steps, train_loss, label='Training Loss')\n",
    "plt.plot(steps, train_mean_accuracy, label='Training Accuracy')\n",
    "\n",
    "plt.xlabel('Training Steps')\n",
    "plt.ylabel('Training Loss & Accurary')\n",
    "plt.title('Training Loss & Accuracy vs. Step')\n",
    "\n",
    "plt.legend()\n",
    "plt.grid(True)\n",
    "plt.show()"
   ]
  },
  {
   "cell_type": "markdown",
   "metadata": {},
   "source": [
    "### Step 5 - Use model"
   ]
  },
  {
   "cell_type": "markdown",
   "metadata": {},
   "source": [
    "Extract the trained model Id"
   ]
  },
  {
   "cell_type": "code",
   "execution_count": 21,
   "metadata": {},
   "outputs": [
    {
     "data": {
      "text/plain": [
       "'ft:gpt-3.5-turbo-0125:personal::9wLXscQL'"
      ]
     },
     "execution_count": 21,
     "metadata": {},
     "output_type": "execute_result"
    }
   ],
   "source": [
    "trained_model = running_job.fine_tuned_model\n",
    "trained_model"
   ]
  },
  {
   "cell_type": "markdown",
   "metadata": {},
   "source": [
    "A function that useses the fine-tuned model to analyse user comments"
   ]
  },
  {
   "cell_type": "code",
   "execution_count": 17,
   "metadata": {},
   "outputs": [],
   "source": [
    "def check_comment(comment, model) -> str: # allow or disallow\n",
    "    # Get ai response\n",
    "    response = openai.chat.completions.create(\n",
    "        model=model,\n",
    "        messages=[\n",
    "            {\"role\": \"system\", \"content\": system_prompt},\n",
    "            {\"role\": \"user\", \"content\": comment}\n",
    "        ]\n",
    "    )\n",
    "    response = response.choices[0].message.content\n",
    "    return response"
   ]
  },
  {
   "cell_type": "markdown",
   "metadata": {},
   "source": [
    "use your model"
   ]
  },
  {
   "cell_type": "code",
   "execution_count": 18,
   "metadata": {},
   "outputs": [
    {
     "name": "stdout",
     "output_type": "stream",
     "text": [
      "allow\n"
     ]
    }
   ],
   "source": [
    "comment = \"I love this video\"\n",
    "print(check_comment(comment, trained_model))"
   ]
  },
  {
   "cell_type": "markdown",
   "metadata": {},
   "source": [
    "Compare your trained model with other models"
   ]
  },
  {
   "cell_type": "code",
   "execution_count": 19,
   "metadata": {},
   "outputs": [
    {
     "name": "stdout",
     "output_type": "stream",
     "text": [
      "disallow\n",
      "disallow\n",
      "disallow\n"
     ]
    }
   ],
   "source": [
    "comment = \"I hate you.\"\n",
    "print(check_comment(comment, trained_model))\n",
    "print(check_comment(comment, \"gpt-3.5-turbo\"))\n",
    "print(check_comment(comment, \"gpt-4\"))"
   ]
  },
  {
   "cell_type": "markdown",
   "metadata": {},
   "source": []
  }
 ],
 "metadata": {
  "kernelspec": {
   "display_name": "Python 3",
   "language": "python",
   "name": "python3"
  },
  "language_info": {
   "codemirror_mode": {
    "name": "ipython",
    "version": 3
   },
   "file_extension": ".py",
   "mimetype": "text/x-python",
   "name": "python",
   "nbconvert_exporter": "python",
   "pygments_lexer": "ipython3",
   "version": "3.9.6"
  }
 },
 "nbformat": 4,
 "nbformat_minor": 2
}
